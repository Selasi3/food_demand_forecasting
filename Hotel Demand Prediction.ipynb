{
 "cells": [
  {
   "cell_type": "code",
   "execution_count": 1,
   "id": "169f60ea",
   "metadata": {},
   "outputs": [],
   "source": [
    "import pandas as pd\n",
    "import numpy as np\n",
    "import seaborn as sns\n",
    "from sklearn.model_selection import train_test_split\n",
    "from sklearn.ensemble import RandomForestRegressor\n",
    "from sklearn.metrics import mean_squared_error, mean_absolute_error\n",
    "from sklearn.preprocessing import LabelEncoder\n",
    "from sklearn.preprocessing import StandardScaler\n"
   ]
  },
  {
   "cell_type": "code",
   "execution_count": 2,
   "id": "ec5aa03a",
   "metadata": {},
   "outputs": [],
   "source": [
    "df = pd.read_csv(\"data/dummy_data.csv\")"
   ]
  },
  {
   "cell_type": "code",
   "execution_count": 3,
   "id": "eebac617",
   "metadata": {},
   "outputs": [
    {
     "data": {
      "text/html": [
       "<div>\n",
       "<style scoped>\n",
       "    .dataframe tbody tr th:only-of-type {\n",
       "        vertical-align: middle;\n",
       "    }\n",
       "\n",
       "    .dataframe tbody tr th {\n",
       "        vertical-align: top;\n",
       "    }\n",
       "\n",
       "    .dataframe thead th {\n",
       "        text-align: right;\n",
       "    }\n",
       "</style>\n",
       "<table border=\"1\" class=\"dataframe\">\n",
       "  <thead>\n",
       "    <tr style=\"text-align: right;\">\n",
       "      <th></th>\n",
       "      <th>Order Id</th>\n",
       "      <th>Time Of Order</th>\n",
       "      <th>Item Ordered</th>\n",
       "      <th>Quantity</th>\n",
       "      <th>Amount</th>\n",
       "      <th>Location</th>\n",
       "      <th>Delivery Time</th>\n",
       "    </tr>\n",
       "  </thead>\n",
       "  <tbody>\n",
       "    <tr>\n",
       "      <th>0</th>\n",
       "      <td>1</td>\n",
       "      <td>9/5/2023</td>\n",
       "      <td>E</td>\n",
       "      <td>14</td>\n",
       "      <td>280</td>\n",
       "      <td>East-Legon</td>\n",
       "      <td>56</td>\n",
       "    </tr>\n",
       "    <tr>\n",
       "      <th>1</th>\n",
       "      <td>2</td>\n",
       "      <td>31/10/2023</td>\n",
       "      <td>B</td>\n",
       "      <td>7</td>\n",
       "      <td>140</td>\n",
       "      <td>Kaneshie</td>\n",
       "      <td>495</td>\n",
       "    </tr>\n",
       "    <tr>\n",
       "      <th>2</th>\n",
       "      <td>3</td>\n",
       "      <td>17/05/2023</td>\n",
       "      <td>B</td>\n",
       "      <td>1</td>\n",
       "      <td>20</td>\n",
       "      <td>Kaneshie</td>\n",
       "      <td>139</td>\n",
       "    </tr>\n",
       "    <tr>\n",
       "      <th>3</th>\n",
       "      <td>4</td>\n",
       "      <td>6/4/2023</td>\n",
       "      <td>A</td>\n",
       "      <td>4</td>\n",
       "      <td>80</td>\n",
       "      <td>Accra</td>\n",
       "      <td>316</td>\n",
       "    </tr>\n",
       "    <tr>\n",
       "      <th>4</th>\n",
       "      <td>5</td>\n",
       "      <td>19/11/2023</td>\n",
       "      <td>B</td>\n",
       "      <td>15</td>\n",
       "      <td>300</td>\n",
       "      <td>Kaneshie</td>\n",
       "      <td>293</td>\n",
       "    </tr>\n",
       "  </tbody>\n",
       "</table>\n",
       "</div>"
      ],
      "text/plain": [
       "   Order Id Time Of Order Item Ordered  Quantity  Amount    Location  \\\n",
       "0         1      9/5/2023            E        14     280  East-Legon   \n",
       "1         2    31/10/2023            B         7     140    Kaneshie   \n",
       "2         3    17/05/2023            B         1      20    Kaneshie   \n",
       "3         4      6/4/2023            A         4      80       Accra   \n",
       "4         5    19/11/2023            B        15     300    Kaneshie   \n",
       "\n",
       "   Delivery Time  \n",
       "0             56  \n",
       "1            495  \n",
       "2            139  \n",
       "3            316  \n",
       "4            293  "
      ]
     },
     "execution_count": 3,
     "metadata": {},
     "output_type": "execute_result"
    }
   ],
   "source": [
    "df.head()"
   ]
  },
  {
   "cell_type": "code",
   "execution_count": 4,
   "id": "e433f3f4",
   "metadata": {},
   "outputs": [
    {
     "name": "stdout",
     "output_type": "stream",
     "text": [
      "<class 'pandas.core.frame.DataFrame'>\n",
      "RangeIndex: 600 entries, 0 to 599\n",
      "Data columns (total 7 columns):\n",
      " #   Column         Non-Null Count  Dtype \n",
      "---  ------         --------------  ----- \n",
      " 0   Order Id       600 non-null    int64 \n",
      " 1   Time Of Order  600 non-null    object\n",
      " 2   Item Ordered   600 non-null    object\n",
      " 3   Quantity       600 non-null    int64 \n",
      " 4   Amount         600 non-null    int64 \n",
      " 5   Location       600 non-null    object\n",
      " 6   Delivery Time  600 non-null    int64 \n",
      "dtypes: int64(4), object(3)\n",
      "memory usage: 32.9+ KB\n"
     ]
    }
   ],
   "source": [
    "df.info()"
   ]
  },
  {
   "cell_type": "code",
   "execution_count": 5,
   "id": "e7e71791",
   "metadata": {},
   "outputs": [
    {
     "data": {
      "text/html": [
       "<div>\n",
       "<style scoped>\n",
       "    .dataframe tbody tr th:only-of-type {\n",
       "        vertical-align: middle;\n",
       "    }\n",
       "\n",
       "    .dataframe tbody tr th {\n",
       "        vertical-align: top;\n",
       "    }\n",
       "\n",
       "    .dataframe thead th {\n",
       "        text-align: right;\n",
       "    }\n",
       "</style>\n",
       "<table border=\"1\" class=\"dataframe\">\n",
       "  <thead>\n",
       "    <tr style=\"text-align: right;\">\n",
       "      <th></th>\n",
       "      <th>Order Id</th>\n",
       "      <th>Time Of Order</th>\n",
       "      <th>Item Ordered</th>\n",
       "      <th>Quantity</th>\n",
       "      <th>Amount</th>\n",
       "      <th>Location</th>\n",
       "      <th>Delivery Time</th>\n",
       "    </tr>\n",
       "  </thead>\n",
       "  <tbody>\n",
       "    <tr>\n",
       "      <th>count</th>\n",
       "      <td>600.000000</td>\n",
       "      <td>600</td>\n",
       "      <td>600</td>\n",
       "      <td>600.000000</td>\n",
       "      <td>600.000000</td>\n",
       "      <td>600</td>\n",
       "      <td>600.000000</td>\n",
       "    </tr>\n",
       "    <tr>\n",
       "      <th>unique</th>\n",
       "      <td>NaN</td>\n",
       "      <td>293</td>\n",
       "      <td>5</td>\n",
       "      <td>NaN</td>\n",
       "      <td>NaN</td>\n",
       "      <td>5</td>\n",
       "      <td>NaN</td>\n",
       "    </tr>\n",
       "    <tr>\n",
       "      <th>top</th>\n",
       "      <td>NaN</td>\n",
       "      <td>26/11/2023</td>\n",
       "      <td>D</td>\n",
       "      <td>NaN</td>\n",
       "      <td>NaN</td>\n",
       "      <td>Malllam</td>\n",
       "      <td>NaN</td>\n",
       "    </tr>\n",
       "    <tr>\n",
       "      <th>freq</th>\n",
       "      <td>NaN</td>\n",
       "      <td>6</td>\n",
       "      <td>134</td>\n",
       "      <td>NaN</td>\n",
       "      <td>NaN</td>\n",
       "      <td>130</td>\n",
       "      <td>NaN</td>\n",
       "    </tr>\n",
       "    <tr>\n",
       "      <th>mean</th>\n",
       "      <td>300.500000</td>\n",
       "      <td>NaN</td>\n",
       "      <td>NaN</td>\n",
       "      <td>10.508333</td>\n",
       "      <td>210.166667</td>\n",
       "      <td>NaN</td>\n",
       "      <td>276.851667</td>\n",
       "    </tr>\n",
       "    <tr>\n",
       "      <th>std</th>\n",
       "      <td>173.349358</td>\n",
       "      <td>NaN</td>\n",
       "      <td>NaN</td>\n",
       "      <td>5.828369</td>\n",
       "      <td>116.567372</td>\n",
       "      <td>NaN</td>\n",
       "      <td>136.558400</td>\n",
       "    </tr>\n",
       "    <tr>\n",
       "      <th>min</th>\n",
       "      <td>1.000000</td>\n",
       "      <td>NaN</td>\n",
       "      <td>NaN</td>\n",
       "      <td>1.000000</td>\n",
       "      <td>20.000000</td>\n",
       "      <td>NaN</td>\n",
       "      <td>30.000000</td>\n",
       "    </tr>\n",
       "    <tr>\n",
       "      <th>25%</th>\n",
       "      <td>150.750000</td>\n",
       "      <td>NaN</td>\n",
       "      <td>NaN</td>\n",
       "      <td>6.000000</td>\n",
       "      <td>120.000000</td>\n",
       "      <td>NaN</td>\n",
       "      <td>155.000000</td>\n",
       "    </tr>\n",
       "    <tr>\n",
       "      <th>50%</th>\n",
       "      <td>300.500000</td>\n",
       "      <td>NaN</td>\n",
       "      <td>NaN</td>\n",
       "      <td>10.500000</td>\n",
       "      <td>210.000000</td>\n",
       "      <td>NaN</td>\n",
       "      <td>291.000000</td>\n",
       "    </tr>\n",
       "    <tr>\n",
       "      <th>75%</th>\n",
       "      <td>450.250000</td>\n",
       "      <td>NaN</td>\n",
       "      <td>NaN</td>\n",
       "      <td>16.000000</td>\n",
       "      <td>320.000000</td>\n",
       "      <td>NaN</td>\n",
       "      <td>386.000000</td>\n",
       "    </tr>\n",
       "    <tr>\n",
       "      <th>max</th>\n",
       "      <td>600.000000</td>\n",
       "      <td>NaN</td>\n",
       "      <td>NaN</td>\n",
       "      <td>20.000000</td>\n",
       "      <td>400.000000</td>\n",
       "      <td>NaN</td>\n",
       "      <td>500.000000</td>\n",
       "    </tr>\n",
       "  </tbody>\n",
       "</table>\n",
       "</div>"
      ],
      "text/plain": [
       "          Order Id Time Of Order Item Ordered    Quantity      Amount  \\\n",
       "count   600.000000           600          600  600.000000  600.000000   \n",
       "unique         NaN           293            5         NaN         NaN   \n",
       "top            NaN    26/11/2023            D         NaN         NaN   \n",
       "freq           NaN             6          134         NaN         NaN   \n",
       "mean    300.500000           NaN          NaN   10.508333  210.166667   \n",
       "std     173.349358           NaN          NaN    5.828369  116.567372   \n",
       "min       1.000000           NaN          NaN    1.000000   20.000000   \n",
       "25%     150.750000           NaN          NaN    6.000000  120.000000   \n",
       "50%     300.500000           NaN          NaN   10.500000  210.000000   \n",
       "75%     450.250000           NaN          NaN   16.000000  320.000000   \n",
       "max     600.000000           NaN          NaN   20.000000  400.000000   \n",
       "\n",
       "       Location  Delivery Time  \n",
       "count       600     600.000000  \n",
       "unique        5            NaN  \n",
       "top     Malllam            NaN  \n",
       "freq        130            NaN  \n",
       "mean        NaN     276.851667  \n",
       "std         NaN     136.558400  \n",
       "min         NaN      30.000000  \n",
       "25%         NaN     155.000000  \n",
       "50%         NaN     291.000000  \n",
       "75%         NaN     386.000000  \n",
       "max         NaN     500.000000  "
      ]
     },
     "execution_count": 5,
     "metadata": {},
     "output_type": "execute_result"
    }
   ],
   "source": [
    "df.describe(include=\"all\")"
   ]
  },
  {
   "cell_type": "code",
   "execution_count": 6,
   "id": "9e3b08ca",
   "metadata": {},
   "outputs": [
    {
     "data": {
      "text/plain": [
       "Order Id         0\n",
       "Time Of Order    0\n",
       "Item Ordered     0\n",
       "Quantity         0\n",
       "Amount           0\n",
       "Location         0\n",
       "Delivery Time    0\n",
       "dtype: int64"
      ]
     },
     "execution_count": 6,
     "metadata": {},
     "output_type": "execute_result"
    }
   ],
   "source": [
    "df.isna().sum()"
   ]
  },
  {
   "cell_type": "code",
   "execution_count": 7,
   "id": "64e8e3fb",
   "metadata": {},
   "outputs": [
    {
     "data": {
      "text/plain": [
       "0"
      ]
     },
     "execution_count": 7,
     "metadata": {},
     "output_type": "execute_result"
    }
   ],
   "source": [
    "df.duplicated().sum()"
   ]
  },
  {
   "cell_type": "code",
   "execution_count": 8,
   "id": "7bf29879",
   "metadata": {},
   "outputs": [
    {
     "data": {
      "text/plain": [
       "Index(['Order Id', 'Time Of Order', 'Item Ordered', 'Quantity', 'Amount',\n",
       "       'Location', 'Delivery Time'],\n",
       "      dtype='object')"
      ]
     },
     "execution_count": 8,
     "metadata": {},
     "output_type": "execute_result"
    }
   ],
   "source": [
    "df.columns"
   ]
  },
  {
   "cell_type": "code",
   "execution_count": 9,
   "id": "d3541f69",
   "metadata": {
    "scrolled": true
   },
   "outputs": [],
   "source": [
    "df.drop(axis=1, columns=\"Order Id\", inplace=True)"
   ]
  },
  {
   "cell_type": "code",
   "execution_count": null,
   "id": "5e9afd5f",
   "metadata": {},
   "outputs": [],
   "source": []
  },
  {
   "cell_type": "code",
   "execution_count": 10,
   "id": "5bc365c9",
   "metadata": {},
   "outputs": [],
   "source": [
    "df['Time Of Order'] = pd.to_datetime(df['Time Of Order'], format='%d/%m/%Y')\n",
    "\n",
    "# Extract month and day features from 'Time Of Order'\n",
    "df['Month'] = df['Time Of Order'].dt.month\n",
    "df['Day'] = df['Time Of Order'].dt.day\n",
    "\n",
    "le = LabelEncoder()\n",
    "df['Item Ordered'] = le.fit_transform(df['Item Ordered'])\n",
    "df['Location'] = le.fit_transform(df['Location'])\n",
    "\n",
    "# Select relevant columns for modeling\n",
    "features = ['Item Ordered', 'Quantity', \"Location\", 'Delivery Time', 'Month', 'Day']\n",
    "target = 'Amount'\n",
    "X = df[features]\n",
    "y = df[target]"
   ]
  },
  {
   "cell_type": "code",
   "execution_count": 11,
   "id": "c721d914",
   "metadata": {},
   "outputs": [
    {
     "data": {
      "text/html": [
       "<div>\n",
       "<style scoped>\n",
       "    .dataframe tbody tr th:only-of-type {\n",
       "        vertical-align: middle;\n",
       "    }\n",
       "\n",
       "    .dataframe tbody tr th {\n",
       "        vertical-align: top;\n",
       "    }\n",
       "\n",
       "    .dataframe thead th {\n",
       "        text-align: right;\n",
       "    }\n",
       "</style>\n",
       "<table border=\"1\" class=\"dataframe\">\n",
       "  <thead>\n",
       "    <tr style=\"text-align: right;\">\n",
       "      <th></th>\n",
       "      <th>Item Ordered</th>\n",
       "      <th>Quantity</th>\n",
       "      <th>Location</th>\n",
       "      <th>Delivery Time</th>\n",
       "      <th>Month</th>\n",
       "      <th>Day</th>\n",
       "    </tr>\n",
       "  </thead>\n",
       "  <tbody>\n",
       "    <tr>\n",
       "      <th>count</th>\n",
       "      <td>600.000000</td>\n",
       "      <td>600.000000</td>\n",
       "      <td>600.000000</td>\n",
       "      <td>600.000000</td>\n",
       "      <td>600.000000</td>\n",
       "      <td>600.000000</td>\n",
       "    </tr>\n",
       "    <tr>\n",
       "      <th>mean</th>\n",
       "      <td>1.950000</td>\n",
       "      <td>10.508333</td>\n",
       "      <td>2.001667</td>\n",
       "      <td>276.851667</td>\n",
       "      <td>6.590000</td>\n",
       "      <td>16.488333</td>\n",
       "    </tr>\n",
       "    <tr>\n",
       "      <th>std</th>\n",
       "      <td>1.383482</td>\n",
       "      <td>5.828369</td>\n",
       "      <td>1.447465</td>\n",
       "      <td>136.558400</td>\n",
       "      <td>3.448921</td>\n",
       "      <td>8.747613</td>\n",
       "    </tr>\n",
       "    <tr>\n",
       "      <th>min</th>\n",
       "      <td>0.000000</td>\n",
       "      <td>1.000000</td>\n",
       "      <td>0.000000</td>\n",
       "      <td>30.000000</td>\n",
       "      <td>1.000000</td>\n",
       "      <td>1.000000</td>\n",
       "    </tr>\n",
       "    <tr>\n",
       "      <th>25%</th>\n",
       "      <td>1.000000</td>\n",
       "      <td>6.000000</td>\n",
       "      <td>1.000000</td>\n",
       "      <td>155.000000</td>\n",
       "      <td>4.000000</td>\n",
       "      <td>9.000000</td>\n",
       "    </tr>\n",
       "    <tr>\n",
       "      <th>50%</th>\n",
       "      <td>2.000000</td>\n",
       "      <td>10.500000</td>\n",
       "      <td>2.000000</td>\n",
       "      <td>291.000000</td>\n",
       "      <td>7.000000</td>\n",
       "      <td>17.000000</td>\n",
       "    </tr>\n",
       "    <tr>\n",
       "      <th>75%</th>\n",
       "      <td>3.000000</td>\n",
       "      <td>16.000000</td>\n",
       "      <td>3.000000</td>\n",
       "      <td>386.000000</td>\n",
       "      <td>10.000000</td>\n",
       "      <td>24.000000</td>\n",
       "    </tr>\n",
       "    <tr>\n",
       "      <th>max</th>\n",
       "      <td>4.000000</td>\n",
       "      <td>20.000000</td>\n",
       "      <td>4.000000</td>\n",
       "      <td>500.000000</td>\n",
       "      <td>12.000000</td>\n",
       "      <td>31.000000</td>\n",
       "    </tr>\n",
       "  </tbody>\n",
       "</table>\n",
       "</div>"
      ],
      "text/plain": [
       "       Item Ordered    Quantity    Location  Delivery Time       Month  \\\n",
       "count    600.000000  600.000000  600.000000     600.000000  600.000000   \n",
       "mean       1.950000   10.508333    2.001667     276.851667    6.590000   \n",
       "std        1.383482    5.828369    1.447465     136.558400    3.448921   \n",
       "min        0.000000    1.000000    0.000000      30.000000    1.000000   \n",
       "25%        1.000000    6.000000    1.000000     155.000000    4.000000   \n",
       "50%        2.000000   10.500000    2.000000     291.000000    7.000000   \n",
       "75%        3.000000   16.000000    3.000000     386.000000   10.000000   \n",
       "max        4.000000   20.000000    4.000000     500.000000   12.000000   \n",
       "\n",
       "              Day  \n",
       "count  600.000000  \n",
       "mean    16.488333  \n",
       "std      8.747613  \n",
       "min      1.000000  \n",
       "25%      9.000000  \n",
       "50%     17.000000  \n",
       "75%     24.000000  \n",
       "max     31.000000  "
      ]
     },
     "execution_count": 11,
     "metadata": {},
     "output_type": "execute_result"
    }
   ],
   "source": [
    "X.describe()"
   ]
  },
  {
   "cell_type": "code",
   "execution_count": 12,
   "id": "4744a4ad",
   "metadata": {},
   "outputs": [],
   "source": [
    "X_train, X_test, y_train, y_test = train_test_split(X, y, test_size=0.2, random_state=42)\n",
    "# Scale the numerical features using StandardScaler\n",
    "numerical_columns = ['Quantity', 'Delivery Time']\n",
    "scaler = StandardScaler()\n",
    "X_train[numerical_columns] = scaler.fit_transform(X_train[numerical_columns])\n",
    "X_test[numerical_columns] = scaler.transform(X_test[numerical_columns])\n"
   ]
  },
  {
   "cell_type": "code",
   "execution_count": 13,
   "id": "367aef4a",
   "metadata": {},
   "outputs": [],
   "source": [
    "# model = RandomForestRegressor(random_state=42)\n",
    "# model.fit(X_train, y_train)\n",
    "\n",
    "# # Make predictions on the test set\n",
    "# y_pred = model.predict(X_test)\n",
    "\n",
    "# # Calculate evaluation metrics\n",
    "# mse = mean_squared_error(y_test, y_pred)\n",
    "# mae = mean_absolute_error(y_test, y_pred)\n",
    "\n",
    "# # Print the evaluation metrics\n",
    "# print(\"Mean Squared Error (MSE):\", mse)\n",
    "# print(\"Mean Absolute Error (MAE):\", mae)"
   ]
  },
  {
   "cell_type": "code",
   "execution_count": 14,
   "id": "e1d48fef",
   "metadata": {},
   "outputs": [
    {
     "name": "stdout",
     "output_type": "stream",
     "text": [
      "Best Parameters: {'max_depth': None, 'min_samples_leaf': 1, 'min_samples_split': 2, 'n_estimators': 100}\n"
     ]
    }
   ],
   "source": [
    "from sklearn.ensemble import RandomForestRegressor\n",
    "from sklearn.model_selection import GridSearchCV\n",
    "from sklearn.metrics import mean_squared_error\n",
    "\n",
    "\n",
    "# Define the parameter grid for the grid search\n",
    "param_grid = {\n",
    "    'n_estimators': [100, 200, 300],      # Number of trees in the forest\n",
    "    'max_depth': [None, 5, 10, 20],       # Maximum depth of each tree\n",
    "    'min_samples_split': [2, 5, 10],      # Minimum number of samples required to split an internal node\n",
    "    'min_samples_leaf': [1, 2, 4]         # Minimum number of samples required to be at a leaf node\n",
    "}\n",
    "\n",
    "# Create the RandomForestRegressor model\n",
    "rf_model = RandomForestRegressor()\n",
    "\n",
    "# Perform grid search with cross-validation\n",
    "grid_search = GridSearchCV(estimator=rf_model, param_grid=param_grid, cv=5, scoring='neg_mean_squared_error')\n",
    "grid_search.fit(X_train, y_train)\n",
    "\n",
    "# Get the best parameters and best estimator from the grid search\n",
    "best_params = grid_search.best_params_\n",
    "best_estimator = grid_search.best_estimator_\n",
    "\n",
    "# Print the best parameters\n",
    "print(\"Best Parameters:\", best_params)\n",
    "\n",
    "# # Make predictions using the best estimator\n",
    "# y_pred = best_estimator.predict(X_train)\n",
    "\n",
    "# # Calculate the root mean squared error (RMSE)\n",
    "# rmse = mean_squared_error(y_test, y_pred, squared=False)\n",
    "# print(\"Root Mean Squared Error (RMSE):\", rmse)\n"
   ]
  },
  {
   "cell_type": "code",
   "execution_count": 19,
   "id": "daf98db6",
   "metadata": {},
   "outputs": [],
   "source": [
    "rf_model = RandomForestRegressor(max_depth=None, min_samples_leaf= 1, min_samples_split=2, n_estimators=100)\n",
    "rf_model.fit(X_train, y_train)\n",
    "\n",
    "# # Make predictions on the test set\n",
    "y_pred = rf_model.predict(X_test)\n",
    "\n",
    "# # Calculate evaluation metrics\n",
    "mse = mean_squared_error(y_test, y_pred, squared=False)\n",
    "mae = mean_absolute_error(y_test, y_pred)"
   ]
  },
  {
   "cell_type": "code",
   "execution_count": 20,
   "id": "f9251fe0",
   "metadata": {},
   "outputs": [
    {
     "data": {
      "text/plain": [
       "0.0"
      ]
     },
     "execution_count": 20,
     "metadata": {},
     "output_type": "execute_result"
    }
   ],
   "source": [
    "mse"
   ]
  },
  {
   "cell_type": "code",
   "execution_count": 21,
   "id": "855ea3c3",
   "metadata": {},
   "outputs": [
    {
     "data": {
      "text/plain": [
       "110    180\n",
       "419    360\n",
       "565    140\n",
       "77      80\n",
       "181    260\n",
       "      ... \n",
       "399    160\n",
       "340    220\n",
       "148    340\n",
       "494    140\n",
       "439    340\n",
       "Name: Amount, Length: 120, dtype: int64"
      ]
     },
     "execution_count": 21,
     "metadata": {},
     "output_type": "execute_result"
    }
   ],
   "source": [
    " y_test"
   ]
  },
  {
   "cell_type": "code",
   "execution_count": null,
   "id": "65ae43e9",
   "metadata": {},
   "outputs": [],
   "source": []
  },
  {
   "cell_type": "code",
   "execution_count": 22,
   "id": "926da063",
   "metadata": {},
   "outputs": [
    {
     "data": {
      "text/plain": [
       "array([180., 360., 140.,  80., 260., 180., 380., 220., 340., 340., 300.,\n",
       "       120., 180., 360., 200., 180., 380.,  60., 260., 120.,  20., 360.,\n",
       "       240., 300., 220., 200.,  60.,  80., 120., 360., 400., 340., 240.,\n",
       "       320., 140.,  60.,  20., 180., 360., 120., 280., 320.,  20., 300.,\n",
       "       180., 360., 380., 140., 160.,  40., 200., 320., 360., 380., 320.,\n",
       "       220., 180.,  60., 380., 400., 220., 320., 220.,  60., 240., 360.,\n",
       "       260., 400., 280., 340., 140., 240.,  80., 300., 400.,  60.,  20.,\n",
       "       200., 320., 360.,  60., 340., 200., 360., 140., 280.,  20., 320.,\n",
       "       300., 300.,  60., 240., 360., 280., 340., 320.,  40.,  60., 200.,\n",
       "        40., 200., 320., 260., 140., 240., 220., 340., 100., 280.,  20.,\n",
       "       360., 140., 220., 260., 320., 160., 220., 340., 140., 340.])"
      ]
     },
     "execution_count": 22,
     "metadata": {},
     "output_type": "execute_result"
    }
   ],
   "source": [
    "y_pred"
   ]
  },
  {
   "cell_type": "code",
   "execution_count": 23,
   "id": "91f1d07a",
   "metadata": {},
   "outputs": [],
   "source": [
    "import pickle\n",
    "\n",
    "with open(\"rf_model.pkl\", \"wb\") as file:\n",
    "    pickle.dump(rf_model, file)"
   ]
  },
  {
   "cell_type": "code",
   "execution_count": null,
   "id": "66c82dfd",
   "metadata": {},
   "outputs": [],
   "source": []
  }
 ],
 "metadata": {
  "kernelspec": {
   "display_name": "Python 3 (ipykernel)",
   "language": "python",
   "name": "python3"
  },
  "language_info": {
   "codemirror_mode": {
    "name": "ipython",
    "version": 3
   },
   "file_extension": ".py",
   "mimetype": "text/x-python",
   "name": "python",
   "nbconvert_exporter": "python",
   "pygments_lexer": "ipython3",
   "version": "3.9.12"
  }
 },
 "nbformat": 4,
 "nbformat_minor": 5
}
